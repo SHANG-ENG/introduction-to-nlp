{
 "cells": [
  {
   "cell_type": "markdown",
   "metadata": {},
   "source": [
    "### 以港铁路线为例探究广度优先搜索\n",
    "#### 1.爬取百度百科港铁线路——共11条，10条可拓展到站点信息，机场快线无站点信息，因此从机场官网爬取\n",
    "#### 2.数据清洗：对爬取的线路信息进行处理，仅保留站点信息\n",
    "#### 3.建立搜索图：获取站点关联信息\n",
    "#### 4.breath first search：输入起始站和终点站，输出换乘路线"
   ]
  },
  {
   "cell_type": "code",
   "execution_count": 1,
   "metadata": {},
   "outputs": [],
   "source": [
    "import requests\n",
    "import re\n",
    "import pandas as pd"
   ]
  },
  {
   "cell_type": "markdown",
   "metadata": {},
   "source": [
    "### 1.1 爬取百科港铁页面11个站点及url"
   ]
  },
  {
   "cell_type": "code",
   "execution_count": 2,
   "metadata": {},
   "outputs": [],
   "source": [
    "#请求头\n",
    "header_baike = {\n",
    "'Accept': \\\n",
    "'text/html,application/xhtml+xml,application/xml;q=0.9,image/webp,image/apng,*/*;q=0.8,application/signed-exchange;v=b3',\n",
    "'Accept-Encoding': 'gzip, deflate, br',\n",
    "'Accept-Language': 'zh-CN,zh;q=0.9',\n",
    "'Cache-Control': 'max-age=0',\n",
    "'Connection': 'keep-alive',\n",
    "'Cookie': 'BAIDUID=7B376B31D697A0E75D27E59240AA6122:FG=1; BIDUPSID=7B376B31D697A0E75D27E59240AA6122; PSTM=1532439485; BDUSS=I1N29scG5OQ1hNa3R0dURONnE0bTU0YTZrVXVjU0J5MUtmWHNFZn43V2Q0ZXhiQVFBQUFBJCQAAAAAAAAAAAEAAAB61GYS0PnO6MC7AAAAAAAAAAAAAAAAAAAAAAAAAAAAAAAAAAAAAAAAAAAAAAAAAAAAAAAAAAAAAAAAAAAAAAAAAAAAAJ1UxVudVMVbOU; BDORZ=B490B5EBF6F3CD402E515D22BCDA1598; delPer=0; PSINO=1; ZD_ENTRY=baidu; pgv_pvi=8564731904; pgv_si=s7417086976; H_PS_PSSID=1464_21094_29522_29521_28519_29098_28834_29220; BDRCVFR[feWj1Vr5u3D]=I67x6TjHwwYf0; Hm_lvt_55b574651fcae74b0a9f1cf9c8d7c93a=1563115523,1563166624,1563207180,1563296120; Hm_lpvt_55b574651fcae74b0a9f1cf9c8d7c93a=1563296120',\n",
    "'Host': 'baike.baidu.com',\n",
    "'Referer': 'https://www.baidu.com/link?url=w0s0w-dncOzFCQ_f3IizUUp7WbS1IYZR13_8-Ki752fB0bvCfZZlWm88739VMtBwL9YeW5vYadCorV-uOIaiqqrXSOQdBKx1jxQM_kLxpUW&wd=&eqid=e87456c50000f718000000035d2e0173',\n",
    "'Upgrade-Insecure-Requests': '1',\n",
    "'User-Agent': 'Mozilla/5.0 (Windows NT 10.0; Win64; x64) AppleWebKit/537.36 (KHTML, like Gecko) Chrome/75.0.3770.100 Safari/537.36'\n",
    "}"
   ]
  },
  {
   "cell_type": "code",
   "execution_count": 3,
   "metadata": {},
   "outputs": [],
   "source": [
    "def get_response(url,header):\n",
    "    res = requests.get(url,headers=header,allow_redirects=False)\n",
    "    return res,res.content.decode('utf8')\n",
    "\n",
    "hk_baike_url = 'https://baike.baidu.com/item/%E6%B8%AF%E9%93%81/7869166?fr=aladdin'  #百科港铁\n",
    "res_status,content = get_response(hk_baike_url,header_baike)"
   ]
  },
  {
   "cell_type": "code",
   "execution_count": 4,
   "metadata": {},
   "outputs": [
    {
     "data": {
      "text/plain": [
       "{'东铁线': 'https://baike.baidu.com/item/%E4%B8%9C%E9%93%81%E7%BA%BF/9405990',\n",
       " '观塘线': 'https://baike.baidu.com/item/%E8%A7%82%E5%A1%98%E7%BA%BF/9399850',\n",
       " '荃湾线': 'https://baike.baidu.com/item/%E8%8D%83%E6%B9%BE%E7%BA%BF/9403835',\n",
       " '港岛线': 'https://baike.baidu.com/item/%E6%B8%AF%E5%B2%9B%E7%BA%BF/9404355',\n",
       " '东涌线': 'https://baike.baidu.com/item/%E4%B8%9C%E6%B6%8C%E7%BA%BF/9405092',\n",
       " '将军澳线': 'https://baike.baidu.com/item/%E5%B0%86%E5%86%9B%E6%BE%B3%E7%BA%BF/9352103',\n",
       " '西铁线': 'https://baike.baidu.com/item/%E8%A5%BF%E9%93%81%E7%BA%BF/9406685',\n",
       " '马鞍山线': 'https://baike.baidu.com/item/%E9%A9%AC%E9%9E%8D%E5%B1%B1%E7%BA%BF/9414345',\n",
       " '迪士尼线': 'https://baike.baidu.com/item/%E8%BF%AA%E5%A3%AB%E5%B0%BC%E7%BA%BF/5500566',\n",
       " '南港岛线': 'https://baike.baidu.com/item/%E5%8D%97%E6%B8%AF%E5%B2%9B%E7%BA%BF/10678930',\n",
       " '机场快线': 'https://baike.baidu.com/item/%E6%9C%BA%E5%9C%BA%E5%BF%AB%E7%BA%BF/10349635'}"
      ]
     },
     "execution_count": 4,
     "metadata": {},
     "output_type": "execute_result"
    }
   ],
   "source": [
    "pattern_lines = re.compile(r'<a target=_blank href=\"(/item/.*?%BA%BF/\\d+)\" data-lemmaid=\"\\d+\">(\\w+)')\n",
    "raw_lines = re.findall(pattern_lines,content)\n",
    "metro_lines = {}\n",
    "for line in raw_lines:\n",
    "    metro_lines[line[1]] = 'https://baike.baidu.com' + line[0]\n",
    "    \n",
    "metro_lines"
   ]
  },
  {
   "cell_type": "markdown",
   "metadata": {},
   "source": [
    "### 1.2 拓展11条线路的url，爬取站点信息"
   ]
  },
  {
   "cell_type": "code",
   "execution_count": 5,
   "metadata": {},
   "outputs": [
    {
     "data": {
      "text/plain": [
       "dict_keys(['东铁线', '观塘线', '港岛线', '东涌线', '西铁线', '荃湾线', '南港岛线', '将军澳线', '马鞍山线', '迪士尼线'])"
      ]
     },
     "execution_count": 5,
     "metadata": {},
     "output_type": "execute_result"
    }
   ],
   "source": [
    "def get_stations(colname):\n",
    "    stations = {}\n",
    "    for name,url in metro_lines.items():\n",
    "        tables = pd.read_html(url,header = 0)\n",
    "        for table in tables:\n",
    "            try:\n",
    "                stations[name] = table[colname].tolist()\n",
    "            except:\n",
    "                continue\n",
    "    return stations\n",
    "\n",
    "all_line_stations = {}\n",
    "for col_name in ['车站名称','站名','站点名称','车站套色同埋名','方向']:\n",
    "    all_line_stations.update(get_stations(col_name))\n",
    "\n",
    "all_line_stations.keys()  #未爬取到 机场快线 的站点信息"
   ]
  },
  {
   "cell_type": "code",
   "execution_count": 6,
   "metadata": {},
   "outputs": [
    {
     "data": {
      "text/plain": [
       "{'东铁线': ['罗湖站',\n",
       "  '落马洲站',\n",
       "  '上水站',\n",
       "  '粉岭站',\n",
       "  '太和站',\n",
       "  '大埔墟站',\n",
       "  '大学站',\n",
       "  '马场站',\n",
       "  '火炭站',\n",
       "  '沙田站',\n",
       "  '大围站',\n",
       "  '九龙塘站',\n",
       "  '旺角东站',\n",
       "  '红磡站',\n",
       "  '*罗湖站，落马洲站位于边境禁区，仅限持有效旅游证件或边境禁区通行证乘客使用，违者可能会被检控。 *马场站只在沙田或快活谷马场举行赛事或特别节目时开放，18岁以下人士在赛马日请勿在此站出闸。 *大围站临时车站于1983年8月15日启用，现有车站于1986年4月23日启用。 *旺角东站前身为油麻地火车站，于1910年10月1日启用，现有车站于1982年5月4日启用。2007年12月2日改名为旺角东站。'],\n",
       " '观塘线': ['调景岭',\n",
       "  '油塘',\n",
       "  '蓝田',\n",
       "  '观塘',\n",
       "  '牛头角',\n",
       "  '九龙湾',\n",
       "  '彩虹',\n",
       "  '钻石山',\n",
       "  '黄大仙',\n",
       "  '乐富',\n",
       "  '九龙塘',\n",
       "  '石硖尾',\n",
       "  '太子（附注3）',\n",
       "  '旺角（附注3）',\n",
       "  '油麻地（附注2）',\n",
       "  '何文田（附注5）',\n",
       "  '黄埔（附注5）'],\n",
       " '港岛线': ['坚尼地城站',\n",
       "  '香港大学站',\n",
       "  '西营盘站',\n",
       "  '上环站',\n",
       "  '中环站',\n",
       "  '金钟站',\n",
       "  '湾仔站',\n",
       "  '铜锣湾站',\n",
       "  '天后站',\n",
       "  '炮台山站',\n",
       "  '北角站',\n",
       "  '鲗鱼涌站',\n",
       "  '太古站',\n",
       "  '西湾河站',\n",
       "  '筲箕湾站',\n",
       "  '杏花邨站',\n",
       "  '柴湾站',\n",
       "  '附注 港岛线将会伸延，为西区提供铁路服务，其中坚尼地城站及香港大学站率先于2014年12月28日通车，西营盘站则已于2015年3月启用。'],\n",
       " '东涌线': ['添马',\n",
       "  '会展站',\n",
       "  '铜锣湾北站',\n",
       "  '炮台山站（附注3）',\n",
       "  '北角站（附注3）',\n",
       "  '鲗鱼涌站（附注3）',\n",
       "  '太古站（附注3）',\n",
       "  '西湾河站（附注3）',\n",
       "  '筲箕湾站（附注3）',\n",
       "  '杏花邨站（附注3）',\n",
       "  '柴湾站（附注3）'],\n",
       " '西铁线': ['屯门站 Tuen Mun',\n",
       "  '兆康站 Siu Hong',\n",
       "  '天水围站 Tin Shui Wai',\n",
       "  '朗屏站 Long Ping',\n",
       "  '元朗站 Yuan Long',\n",
       "  '锦上路站 Kam Shueng Rode',\n",
       "  '荃湾西站 Tsuen Wan West',\n",
       "  '美孚站 Mei Foo',\n",
       "  '南昌站 Nam Cheong',\n",
       "  '柯士甸站 Austin',\n",
       "  '尖东站 East Tsim Sha Tsui',\n",
       "  '红磡站 Hung Hom',\n",
       "  '1.带*号的车站换乘线路需要出闸换乘（非收费区换乘），其中柯士甸站换乘广深港高速铁路需提前到达车站换取或购买车票乘坐高铁（需要身份证）。 2.南昌站于2003年12月16日启用，但西铁部分则于12月20日才正式启用。在2009年8月16日九龙南线通车前，是西铁线的南面总站。 3. 尖东站及尖沙咀站转乘须经位于非收费区的行人隧道系统。转乘功能只适用于使用八达通，使用单程票在此转乘将会视作两程独立车程，出闸后需要另行购买车票。 4.尖东站在启用至2009年8月16日九龙南线通车前，曾是东铁线的车站。 5. 红磡站于1975年11月30日启用，但西铁线部分则较迟启用。'],\n",
       " '荃湾线': ['荃湾Tsuen Wan',\n",
       "  '大窝口 Tai Wo Hau',\n",
       "  '葵兴 Kuai Hing',\n",
       "  '葵芳Kuai Fong',\n",
       "  '荔景Lai King',\n",
       "  '美孚Mei Foo',\n",
       "  '荔枝角 Lai Chi Kok',\n",
       "  '长沙湾Cheung Sha Wan',\n",
       "  '深水埗Sham Shui Po',\n",
       "  '太子 Prince Edward',\n",
       "  '旺角 Mong Kok',\n",
       "  '油麻地Yau Ma Tei',\n",
       "  '佐敦Jordan',\n",
       "  '尖沙咀Tsim Sha Tsoi',\n",
       "  '金钟 Admiralty',\n",
       "  '中环 Central',\n",
       "  nan],\n",
       " '南港岛线': ['海怡半岛 South Horizons',\n",
       "  '利东 Lei Tung',\n",
       "  '黄竹坑 Wong Chuk Hang',\n",
       "  '海洋公园 Ocean Park',\n",
       "  '金钟 Admiralty'],\n",
       " '将军澳线': ['北角', '鲗鱼涌', '油塘', '调景岭', '将军澳', '康城', '坑口', '宝琳'],\n",
       " '马鞍山线': ['马鞍山线',\n",
       "  '乌溪沙站',\n",
       "  '马鞍山站',\n",
       "  '恒安站',\n",
       "  '大水坑站',\n",
       "  '石门站',\n",
       "  '第一城站',\n",
       "  '沙田围站',\n",
       "  '车公庙站',\n",
       "  '大围站'],\n",
       " '迪士尼线': ['欣澳站往迪士尼站', '迪士尼站往欣澳站'],\n",
       " '机场快线': ['由机场往', '香港站', '九龙站', '青衣站', '博览馆站']}"
      ]
     },
     "execution_count": 6,
     "metadata": {},
     "output_type": "execute_result"
    }
   ],
   "source": [
    "#从香港国际机场官网地面交通网页爬取机场快线站点信息\n",
    "to_do = list(metro_lines.keys()-all_line_stations.keys())\n",
    "'''机场快线'''\n",
    "ap_url = 'https://www.hongkongairport.com/sc/transport/to-from-airport/airport-express.page'\n",
    "ap_header = {#请求头\n",
    "'accept': 'text/html,application/xhtml+xml,application/xml;q=0.9,image/webp,image/apng,*/*;q=0.8,application/signed-exchange;v=b3',\n",
    "'accept-encoding': 'gzip, deflate, br',\n",
    "'accept-language': 'zh-CN,zh;q=0.9',\n",
    "'cache-control': 'max-age=0',\n",
    "'cookie': '__cfduid=d69a1e9d82f99d9d2d1c150201667d62f1563251320; HKIA.font-size=S; HKIA.important-notice-status=open; _ga=GA1.2.1641509565.1563251323; JSESSIONID=04F98454996BDEE8B6DCF218484FD456; _gid=GA1.2.1308698360.1563341408; HKIA.weather=%7B%22weather%22%3A%7B%22code%22%3A%22SP%22%2C%22description%22%3A%5B%22Sunny%20Periods%22%2C%22%E9%96%93%E6%9C%89%E9%99%BD%E5%85%89%22%2C%22%E9%97%B4%E6%9C%89%E9%98%B3%E5%85%89%22%5D%2C%22icon%22%3A%22pic51.png%22%7D%2C%22temperature%22%3A33%2C%22humidity%22%3A76%2C%22latestUpdate%22%3A%222019-07-17T05%3A30%3A13.385Z%22%2C%22warningInfo%22%3A%5B%5D%2C%22hasWarning%22%3Afalse%7D',\n",
    "'upgrade-insecure-requests': '1',\n",
    "'user-agent': 'Mozilla/5.0 (Windows NT 10.0; Win64; x64) AppleWebKit/537.36 (KHTML, like Gecko) Chrome/75.0.3770.100 Safari/537.36'}\n",
    "\n",
    "ap_status,ap_res = get_response(ap_url,ap_header)\n",
    "ap_table = pd.read_html(ap_res,header=0)\n",
    "all_line_stations[to_do[0]] = ap_table[0].iloc[:,0].tolist()\n",
    "\n",
    "all_line_stations"
   ]
  },
  {
   "cell_type": "markdown",
   "metadata": {},
   "source": [
    "### 2.数据清洗\n"
   ]
  },
  {
   "cell_type": "markdown",
   "metadata": {},
   "source": [
    "观察各线路站点数据可知，  \n",
    "1.东铁线、港铁线、西铁线、荃湾线最后一条数据均为附注信息；  \n",
    "2.观塘线、东涌线部分站点有“（附注）”标识；  \n",
    "3.西铁线、荃湾线、南港岛线站名为中英文拼接；  \n",
    "4.不同线路站点名字不统一，比如北角，北角站"
   ]
  },
  {
   "cell_type": "code",
   "execution_count": 7,
   "metadata": {},
   "outputs": [],
   "source": [
    "'''\n",
    "0 '东铁线',pop\n",
    "1 '观塘线',del\n",
    "2 '港岛线',pop\n",
    "3 '东涌线',del\n",
    "4 '西铁线',pop\n",
    "5 '荃湾线',pop\n",
    "6 '南港岛线',——4,5,6去英语\n",
    "7 '将军澳线',\n",
    "8 '马鞍山线',\n",
    "9 '迪士尼线',\n",
    "10 '机场快线'\n",
    "'''\n",
    "lines = list(all_line_stations.keys())\n",
    "\n",
    "def pop_last(dict_all_line_stations,key):#删除最后一条附注信息  #key=lines[0]\n",
    "    dict_all_line_stations[key].pop(-1)\n",
    "    print(dict_all_line_stations[key])\n",
    "    return key,dict_all_line_stations[key]\n",
    "\n",
    "\n",
    "def del_brackets_eng(dict_all_line_stations,key,s_split='（',is_pattern=True): #删除（附注）和英文\n",
    "    values=[]\n",
    "    \n",
    "    if is_pattern:\n",
    "        for s in dict_all_line_stations[key]:\n",
    "            pattern=re.compile(r'[\\u4e00-\\u9fa5]')  \n",
    "            value = ''.join(re.findall(pattern,s))\n",
    "            values.append(value)\n",
    "    else:\n",
    "        for s in dict_all_line_stations[key]:\n",
    "            value = s.split(s_split)[0]\n",
    "            values.append(value)\n",
    "    dict_all_line_stations[key]=values\n",
    "    print(dict_all_line_stations[key])\n",
    "    return key,dict_all_line_stations[key]"
   ]
  },
  {
   "cell_type": "code",
   "execution_count": 8,
   "metadata": {},
   "outputs": [
    {
     "name": "stdout",
     "output_type": "stream",
     "text": [
      "['罗湖站', '落马洲站', '上水站', '粉岭站', '太和站', '大埔墟站', '大学站', '马场站', '火炭站', '沙田站', '大围站', '九龙塘站', '旺角东站', '红磡站']\n",
      "['坚尼地城站', '香港大学站', '西营盘站', '上环站', '中环站', '金钟站', '湾仔站', '铜锣湾站', '天后站', '炮台山站', '北角站', '鲗鱼涌站', '太古站', '西湾河站', '筲箕湾站', '杏花邨站', '柴湾站']\n",
      "['屯门站 Tuen Mun', '兆康站 Siu Hong', '天水围站 Tin Shui Wai', '朗屏站 Long Ping', '元朗站 Yuan Long', '锦上路站 Kam Shueng Rode', '荃湾西站 Tsuen Wan West', '美孚站 Mei Foo', '南昌站 Nam Cheong', '柯士甸站 Austin', '尖东站 East Tsim Sha Tsui', '红磡站 Hung Hom']\n",
      "['荃湾Tsuen Wan', '大窝口 Tai Wo Hau', '葵兴 Kuai Hing', '葵芳Kuai Fong', '荔景Lai King', '美孚Mei Foo', '荔枝角 Lai Chi Kok', '长沙湾Cheung Sha Wan', '深水埗Sham Shui Po', '太子 Prince Edward', '旺角 Mong Kok', '油麻地Yau Ma Tei', '佐敦Jordan', '尖沙咀Tsim Sha Tsoi', '金钟 Admiralty', '中环 Central']\n",
      "['调景岭', '油塘', '蓝田', '观塘', '牛头角', '九龙湾', '彩虹', '钻石山', '黄大仙', '乐富', '九龙塘', '石硖尾', '太子', '旺角', '油麻地', '何文田', '黄埔']\n",
      "['添马', '会展站', '铜锣湾北站', '炮台山站', '北角站', '鲗鱼涌站', '太古站', '西湾河站', '筲箕湾站', '杏花邨站', '柴湾站']\n",
      "['屯门站', '兆康站', '天水围站', '朗屏站', '元朗站', '锦上路站', '荃湾西站', '美孚站', '南昌站', '柯士甸站', '尖东站', '红磡站']\n",
      "['荃湾', '大窝口', '葵兴', '葵芳', '荔景', '美孚', '荔枝角', '长沙湾', '深水埗', '太子', '旺角', '油麻地', '佐敦', '尖沙咀', '金钟', '中环']\n",
      "['海怡半岛', '利东', '黄竹坑', '海洋公园', '金钟']\n"
     ]
    },
    {
     "data": {
      "text/plain": [
       "'马鞍山线'"
      ]
     },
     "execution_count": 8,
     "metadata": {},
     "output_type": "execute_result"
    }
   ],
   "source": [
    "for i in [0,2,4,5]:\n",
    "    pop_last(all_line_stations,lines[i])\n",
    "\n",
    "for i in [1,3]:\n",
    "    del_brackets_eng(all_line_stations,lines[i],'（',is_pattern=False)\n",
    " \n",
    "for i in [4,5,6]:\n",
    "    del_brackets_eng(all_line_stations,lines[i],is_pattern=True)\n",
    "    \n",
    "all_line_stations['马鞍山线'].pop(0)"
   ]
  },
  {
   "cell_type": "code",
   "execution_count": 9,
   "metadata": {},
   "outputs": [],
   "source": [
    "'''\n",
    "统一不同线路站点名字，去掉'站'\n",
    "'''\n",
    "for line in all_line_stations:\n",
    "    stations = all_line_stations.get(line)\n",
    "    all_line_stations[line] = [station[:-1] if '站' in station else station for station in stations]"
   ]
  },
  {
   "cell_type": "code",
   "execution_count": 10,
   "metadata": {},
   "outputs": [
    {
     "data": {
      "text/plain": [
       "{'东铁线': ['罗湖',\n",
       "  '落马洲',\n",
       "  '上水',\n",
       "  '粉岭',\n",
       "  '太和',\n",
       "  '大埔墟',\n",
       "  '大学',\n",
       "  '马场',\n",
       "  '火炭',\n",
       "  '沙田',\n",
       "  '大围',\n",
       "  '九龙塘',\n",
       "  '旺角东',\n",
       "  '红磡'],\n",
       " '观塘线': ['调景岭',\n",
       "  '油塘',\n",
       "  '蓝田',\n",
       "  '观塘',\n",
       "  '牛头角',\n",
       "  '九龙湾',\n",
       "  '彩虹',\n",
       "  '钻石山',\n",
       "  '黄大仙',\n",
       "  '乐富',\n",
       "  '九龙塘',\n",
       "  '石硖尾',\n",
       "  '太子',\n",
       "  '旺角',\n",
       "  '油麻地',\n",
       "  '何文田',\n",
       "  '黄埔'],\n",
       " '港岛线': ['坚尼地城',\n",
       "  '香港大学',\n",
       "  '西营盘',\n",
       "  '上环',\n",
       "  '中环',\n",
       "  '金钟',\n",
       "  '湾仔',\n",
       "  '铜锣湾',\n",
       "  '天后',\n",
       "  '炮台山',\n",
       "  '北角',\n",
       "  '鲗鱼涌',\n",
       "  '太古',\n",
       "  '西湾河',\n",
       "  '筲箕湾',\n",
       "  '杏花邨',\n",
       "  '柴湾'],\n",
       " '东涌线': ['添马',\n",
       "  '会展',\n",
       "  '铜锣湾北',\n",
       "  '炮台山',\n",
       "  '北角',\n",
       "  '鲗鱼涌',\n",
       "  '太古',\n",
       "  '西湾河',\n",
       "  '筲箕湾',\n",
       "  '杏花邨',\n",
       "  '柴湾'],\n",
       " '西铁线': ['屯门',\n",
       "  '兆康',\n",
       "  '天水围',\n",
       "  '朗屏',\n",
       "  '元朗',\n",
       "  '锦上路',\n",
       "  '荃湾西',\n",
       "  '美孚',\n",
       "  '南昌',\n",
       "  '柯士甸',\n",
       "  '尖东',\n",
       "  '红磡'],\n",
       " '荃湾线': ['荃湾',\n",
       "  '大窝口',\n",
       "  '葵兴',\n",
       "  '葵芳',\n",
       "  '荔景',\n",
       "  '美孚',\n",
       "  '荔枝角',\n",
       "  '长沙湾',\n",
       "  '深水埗',\n",
       "  '太子',\n",
       "  '旺角',\n",
       "  '油麻地',\n",
       "  '佐敦',\n",
       "  '尖沙咀',\n",
       "  '金钟',\n",
       "  '中环'],\n",
       " '南港岛线': ['海怡半岛', '利东', '黄竹坑', '海洋公园', '金钟'],\n",
       " '将军澳线': ['北角', '鲗鱼涌', '油塘', '调景岭', '将军澳', '康城', '坑口', '宝琳'],\n",
       " '马鞍山线': ['乌溪沙', '马鞍山', '恒安', '大水坑', '石门', '第一城', '沙田围', '车公庙', '大围'],\n",
       " '迪士尼线': ['欣澳站往迪士尼', '迪士尼站往欣澳'],\n",
       " '机场快线': ['由机场往', '香港', '九龙', '青衣', '博览馆']}"
      ]
     },
     "execution_count": 10,
     "metadata": {},
     "output_type": "execute_result"
    }
   ],
   "source": [
    " all_line_stations"
   ]
  },
  {
   "cell_type": "markdown",
   "metadata": {},
   "source": [
    "### 3.建立搜索图"
   ]
  },
  {
   "cell_type": "code",
   "execution_count": 11,
   "metadata": {},
   "outputs": [],
   "source": [
    "'''\n",
    "connection\n",
    "'''\n",
    "from collections import defaultdict\n",
    "station_line_connection = defaultdict(list)\n",
    "\n",
    "#dfs\n",
    "for name1 in all_line_stations.keys():\n",
    "    for each1 in all_line_stations.get(name1):\n",
    "        for name2 in all_line_stations.keys():\n",
    "            for each2 in all_line_stations.get(name2):\n",
    "                if (each1==each2)&(name1!=name2):\n",
    "                    station_line_connection[each1].append(name1)"
   ]
  },
  {
   "cell_type": "code",
   "execution_count": 12,
   "metadata": {},
   "outputs": [],
   "source": [
    "stations_connection = defaultdict(list)\n",
    "for name1 in all_line_stations.keys():\n",
    "    for each1 in all_line_stations.get(name1):\n",
    "        idx1 = all_line_stations.get(name1).index(each1)\n",
    "        if idx1==0:\n",
    "            cnt_1 = all_line_stations.get(name1)[idx1+1]\n",
    "            stations_connection[each1].append(' '.join([name1,cnt_1]))\n",
    "            \n",
    "        elif idx1 == len(all_line_stations.get(name1))-1:\n",
    "            cnt_0 = all_line_stations.get(name1)[idx1-1]\n",
    "            stations_connection[each1].append(' '.join([name1,cnt_0]))\n",
    "        else:\n",
    "            cnt_0= all_line_stations.get(name1)[idx1-1]\n",
    "            cnt_1= all_line_stations.get(name1)[idx1+1]\n",
    "            stations_connection[each1].append(' '.join([name1,cnt_0]))\n",
    "            stations_connection[each1].append(' '.join([name1,cnt_1]))\n",
    "            \n",
    "        for name2 in all_line_stations.keys():\n",
    "            if name2 == name1:continue\n",
    "            for each2 in all_line_stations.get(name2):               \n",
    "                if each1==each2:\n",
    "                    idx2 = all_line_stations.get(name2).index(each2)\n",
    "                    if idx2==0:\n",
    "                        cnt_4 = all_line_stations.get(name2)[idx2+1]\n",
    "                        stations_connection[each1].append(' '.join([name2,cnt_4]))\n",
    "                        \n",
    "                    elif idx2==len(all_line_stations.get(name2))-1:\n",
    "                        cnt_3= all_line_stations.get(name2)[idx2-1]\n",
    "                        stations_connection[each1].append(' '.join([name2,cnt_3]))\n",
    "                    else:\n",
    "                        cnt_3= all_line_stations.get(name2)[idx2-1]\n",
    "                        cnt_4= all_line_stations.get(name2)[idx2+1]\n",
    "                        stations_connection[each1].append(' '.join([name2,cnt_3]))\n",
    "                        stations_connection[each1].append(' '.join([name2,cnt_4]))\n",
    "                else:continue\n",
    "\n",
    "for name,stations in stations_connection.items():\n",
    "    stations_connection[name]=(list(set(stations)))"
   ]
  },
  {
   "cell_type": "code",
   "execution_count": 13,
   "metadata": {},
   "outputs": [
    {
     "data": {
      "text/plain": [
       "defaultdict(list,\n",
       "            {'罗湖': ['东铁线 落马洲'],\n",
       "             '落马洲': ['东铁线 上水', '东铁线 罗湖'],\n",
       "             '上水': ['东铁线 落马洲', '东铁线 粉岭'],\n",
       "             '粉岭': ['东铁线 上水', '东铁线 太和'],\n",
       "             '太和': ['东铁线 大埔墟', '东铁线 粉岭'],\n",
       "             '大埔墟': ['东铁线 太和', '东铁线 大学'],\n",
       "             '大学': ['东铁线 大埔墟', '东铁线 马场'],\n",
       "             '马场': ['东铁线 火炭', '东铁线 大学'],\n",
       "             '火炭': ['东铁线 沙田', '东铁线 马场'],\n",
       "             '沙田': ['东铁线 火炭', '东铁线 大围'],\n",
       "             '大围': ['东铁线 九龙塘', '马鞍山线 车公庙', '东铁线 沙田'],\n",
       "             '九龙塘': ['观塘线 乐富', '观塘线 石硖尾', '东铁线 大围', '东铁线 旺角东'],\n",
       "             '旺角东': ['东铁线 九龙塘', '东铁线 红磡'],\n",
       "             '红磡': ['西铁线 尖东', '东铁线 旺角东'],\n",
       "             '调景岭': ['观塘线 油塘', '将军澳线 将军澳', '将军澳线 油塘'],\n",
       "             '油塘': ['观塘线 调景岭', '观塘线 蓝田', '将军澳线 调景岭', '将军澳线 鲗鱼涌'],\n",
       "             '蓝田': ['观塘线 油塘', '观塘线 观塘'],\n",
       "             '观塘': ['观塘线 蓝田', '观塘线 牛头角'],\n",
       "             '牛头角': ['观塘线 观塘', '观塘线 九龙湾'],\n",
       "             '九龙湾': ['观塘线 牛头角', '观塘线 彩虹'],\n",
       "             '彩虹': ['观塘线 钻石山', '观塘线 九龙湾'],\n",
       "             '钻石山': ['观塘线 黄大仙', '观塘线 彩虹'],\n",
       "             '黄大仙': ['观塘线 钻石山', '观塘线 乐富'],\n",
       "             '乐富': ['观塘线 黄大仙', '观塘线 九龙塘'],\n",
       "             '石硖尾': ['观塘线 太子', '观塘线 九龙塘'],\n",
       "             '太子': ['荃湾线 旺角', '观塘线 石硖尾', '荃湾线 深水埗', '观塘线 旺角'],\n",
       "             '旺角': ['观塘线 太子', '荃湾线 太子', '荃湾线 油麻地', '观塘线 油麻地'],\n",
       "             '油麻地': ['荃湾线 旺角', '观塘线 旺角', '荃湾线 佐敦', '观塘线 何文田'],\n",
       "             '何文田': ['观塘线 黄埔', '观塘线 油麻地'],\n",
       "             '黄埔': ['观塘线 何文田'],\n",
       "             '坚尼地城': ['港岛线 香港大学'],\n",
       "             '香港大学': ['港岛线 坚尼地城', '港岛线 西营盘'],\n",
       "             '西营盘': ['港岛线 上环', '港岛线 香港大学'],\n",
       "             '上环': ['港岛线 中环', '港岛线 西营盘'],\n",
       "             '中环': ['港岛线 上环', '荃湾线 金钟', '港岛线 金钟'],\n",
       "             '金钟': ['港岛线 湾仔', '荃湾线 尖沙咀', '南港岛线 海洋公园', '荃湾线 中环', '港岛线 中环'],\n",
       "             '湾仔': ['港岛线 铜锣湾', '港岛线 金钟'],\n",
       "             '铜锣湾': ['港岛线 湾仔', '港岛线 天后'],\n",
       "             '天后': ['港岛线 炮台山', '港岛线 铜锣湾'],\n",
       "             '炮台山': ['东涌线 铜锣湾北', '东涌线 北角', '港岛线 北角', '港岛线 天后'],\n",
       "             '北角': ['将军澳线 鲗鱼涌', '港岛线 鲗鱼涌', '港岛线 炮台山', '东涌线 鲗鱼涌', '东涌线 炮台山'],\n",
       "             '鲗鱼涌': ['东涌线 太古',\n",
       "              '将军澳线 油塘',\n",
       "              '东涌线 北角',\n",
       "              '港岛线 太古',\n",
       "              '将军澳线 北角',\n",
       "              '港岛线 北角'],\n",
       "             '太古': ['东涌线 西湾河', '东涌线 鲗鱼涌', '港岛线 鲗鱼涌', '港岛线 西湾河'],\n",
       "             '西湾河': ['东涌线 太古', '港岛线 筲箕湾', '港岛线 太古', '东涌线 筲箕湾'],\n",
       "             '筲箕湾': ['东涌线 西湾河', '港岛线 杏花邨', '港岛线 西湾河', '东涌线 杏花邨'],\n",
       "             '杏花邨': ['港岛线 筲箕湾', '东涌线 柴湾', '东涌线 筲箕湾', '港岛线 柴湾'],\n",
       "             '柴湾': ['港岛线 杏花邨', '东涌线 杏花邨'],\n",
       "             '添马': ['东涌线 会展'],\n",
       "             '会展': ['东涌线 铜锣湾北', '东涌线 添马'],\n",
       "             '铜锣湾北': ['东涌线 会展', '东涌线 炮台山'],\n",
       "             '屯门': ['西铁线 兆康'],\n",
       "             '兆康': ['西铁线 屯门', '西铁线 天水围'],\n",
       "             '天水围': ['西铁线 兆康', '西铁线 朗屏'],\n",
       "             '朗屏': ['西铁线 天水围', '西铁线 元朗'],\n",
       "             '元朗': ['西铁线 朗屏', '西铁线 锦上路'],\n",
       "             '锦上路': ['西铁线 元朗', '西铁线 荃湾西'],\n",
       "             '荃湾西': ['西铁线 美孚', '西铁线 锦上路'],\n",
       "             '美孚': ['西铁线 南昌', '荃湾线 荔枝角', '西铁线 荃湾西', '荃湾线 荔景'],\n",
       "             '南昌': ['西铁线 柯士甸', '西铁线 美孚'],\n",
       "             '柯士甸': ['西铁线 南昌', '西铁线 尖东'],\n",
       "             '尖东': ['西铁线 柯士甸', '西铁线 红磡'],\n",
       "             '荃湾': ['荃湾线 大窝口'],\n",
       "             '大窝口': ['荃湾线 葵兴', '荃湾线 荃湾'],\n",
       "             '葵兴': ['荃湾线 大窝口', '荃湾线 葵芳'],\n",
       "             '葵芳': ['荃湾线 葵兴', '荃湾线 荔景'],\n",
       "             '荔景': ['荃湾线 美孚', '荃湾线 葵芳'],\n",
       "             '荔枝角': ['荃湾线 美孚', '荃湾线 长沙湾'],\n",
       "             '长沙湾': ['荃湾线 深水埗', '荃湾线 荔枝角'],\n",
       "             '深水埗': ['荃湾线 长沙湾', '荃湾线 太子'],\n",
       "             '佐敦': ['荃湾线 油麻地', '荃湾线 尖沙咀'],\n",
       "             '尖沙咀': ['荃湾线 佐敦', '荃湾线 金钟'],\n",
       "             '海怡半岛': ['南港岛线 利东'],\n",
       "             '利东': ['南港岛线 黄竹坑', '南港岛线 海怡半岛'],\n",
       "             '黄竹坑': ['南港岛线 海洋公园', '南港岛线 利东'],\n",
       "             '海洋公园': ['南港岛线 黄竹坑', '南港岛线 金钟'],\n",
       "             '将军澳': ['将军澳线 康城', '将军澳线 调景岭'],\n",
       "             '康城': ['将军澳线 将军澳', '将军澳线 坑口'],\n",
       "             '坑口': ['将军澳线 宝琳', '将军澳线 康城'],\n",
       "             '宝琳': ['将军澳线 坑口'],\n",
       "             '乌溪沙': ['马鞍山线 马鞍山'],\n",
       "             '马鞍山': ['马鞍山线 乌溪沙', '马鞍山线 恒安'],\n",
       "             '恒安': ['马鞍山线 大水坑', '马鞍山线 马鞍山'],\n",
       "             '大水坑': ['马鞍山线 石门', '马鞍山线 恒安'],\n",
       "             '石门': ['马鞍山线 第一城', '马鞍山线 大水坑'],\n",
       "             '第一城': ['马鞍山线 石门', '马鞍山线 沙田围'],\n",
       "             '沙田围': ['马鞍山线 第一城', '马鞍山线 车公庙'],\n",
       "             '车公庙': ['马鞍山线 沙田围', '马鞍山线 大围'],\n",
       "             '欣澳站往迪士尼': ['迪士尼线 迪士尼站往欣澳'],\n",
       "             '迪士尼站往欣澳': ['迪士尼线 欣澳站往迪士尼'],\n",
       "             '由机场往': ['机场快线 香港'],\n",
       "             '香港': ['机场快线 由机场往', '机场快线 九龙'],\n",
       "             '九龙': ['机场快线 青衣', '机场快线 香港'],\n",
       "             '青衣': ['机场快线 博览馆', '机场快线 九龙'],\n",
       "             '博览馆': ['机场快线 青衣']})"
      ]
     },
     "execution_count": 13,
     "metadata": {},
     "output_type": "execute_result"
    }
   ],
   "source": [
    " stations_connection"
   ]
  },
  {
   "cell_type": "markdown",
   "metadata": {},
   "source": [
    "### 4.breath first search"
   ]
  },
  {
   "cell_type": "code",
   "execution_count": 14,
   "metadata": {},
   "outputs": [],
   "source": [
    "def search(start,destination,connection):\n",
    "    visited=set()\n",
    "    pathes=[[' '.join(['start',start])]]\n",
    "    while pathes:\n",
    "        path = pathes.pop()\n",
    "        frontier = path[-1]\n",
    "        \n",
    "        #print(frontier)\n",
    "        if frontier in visited:\n",
    "            continue\n",
    "        for s in connection[frontier.split()[1]]:\n",
    "            next_s = s.split()[1]\n",
    "            if s in path:\n",
    "                continue\n",
    "            new_path = path + [s]\n",
    "            pathes.append(new_path)\n",
    "            if next_s == destination:\n",
    "                return new_path\n",
    "        visited.add(frontier)"
   ]
  },
  {
   "cell_type": "code",
   "execution_count": 15,
   "metadata": {},
   "outputs": [
    {
     "name": "stdout",
     "output_type": "stream",
     "text": [
      "start 中环 → ▷港岛线 金钟 → ▷港岛线 中环 → ▷荃湾线 金钟 → ▷南港岛线 海洋公园 → ▷南港岛线 金钟 → ▷荃湾线 尖沙咀 → ▷荃湾线 佐敦 → ▷荃湾线 油麻地 → ▷荃湾线 旺角\n",
      "start 铜锣湾 → ▷港岛线 天后 → ▷港岛线 铜锣湾 → ▷港岛线 湾仔 → ▷港岛线 金钟 → ▷港岛线 中环 → ▷荃湾线 金钟 → ▷南港岛线 海洋公园 → ▷南港岛线 金钟 → ▷荃湾线 尖沙咀 → ▷荃湾线 佐敦 → ▷荃湾线 油麻地 → ▷观塘线 何文田 → ▷观塘线 油麻地 → ▷观塘线 旺角 → ▷荃湾线 太子 → ▷荃湾线 深水埗 → ▷荃湾线 长沙湾 → ▷荃湾线 荔枝角 → ▷荃湾线 美孚 → ▷西铁线 荃湾西 → ▷西铁线 锦上路 → ▷西铁线 元朗 → ▷西铁线 朗屏 → ▷西铁线 天水围\n"
     ]
    }
   ],
   "source": [
    "line1 = search('中环','旺角',stations_connection)\n",
    "line2 = search('铜锣湾','天水围',stations_connection)\n",
    "\n",
    "print(' → ▷'.join(line1))\n",
    "print(' → ▷'.join(line2))"
   ]
  },
  {
   "cell_type": "code",
   "execution_count": null,
   "metadata": {},
   "outputs": [],
   "source": []
  }
 ],
 "metadata": {
  "kernelspec": {
   "display_name": "Python 3",
   "language": "python",
   "name": "python3"
  },
  "language_info": {
   "codemirror_mode": {
    "name": "ipython",
    "version": 3
   },
   "file_extension": ".py",
   "mimetype": "text/x-python",
   "name": "python",
   "nbconvert_exporter": "python",
   "pygments_lexer": "ipython3",
   "version": "3.7.0"
  }
 },
 "nbformat": 4,
 "nbformat_minor": 2
}
