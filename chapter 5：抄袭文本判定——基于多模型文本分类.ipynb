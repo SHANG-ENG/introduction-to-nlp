{
 "cells": [
  {
   "cell_type": "markdown",
   "metadata": {},
   "source": [
    "## 抄袭文本自动判定  \n",
    "###    ——以新华社新闻数据为例"
   ]
  },
  {
   "cell_type": "markdown",
   "metadata": {},
   "source": [
    "#### 1.问题转换  \n",
    "  #### ——定义抄袭文本  \n",
    "#### 2.数据描述  \n",
    "#### 3.数据预处理  \n",
    "#### 4.多模型分类  \n"
   ]
  },
  {
   "cell_type": "code",
   "execution_count": 1,
   "metadata": {},
   "outputs": [],
   "source": [
    "import pandas as pd\n",
    "import numpy as np\n",
    "import matplotlib.pyplot as plt\n",
    "from sklearn.feature_extraction.text import TfidfVectorizer\n",
    "\n",
    "from sklearn.feature_extraction.text import TfidfTransformer\n",
    "from sklearn.feature_extraction.text import CountVectorizer\n",
    "import jieba\n",
    "import re"
   ]
  },
  {
   "cell_type": "markdown",
   "metadata": {},
   "source": [
    "## 一、数据描述"
   ]
  },
  {
   "cell_type": "markdown",
   "metadata": {},
   "source": [
    "#### 1.数据格式：文本数据，需提取content字段  \n",
    "#### 2.未有明显标注，需转换问题，来源新华社的数据占比为87%  \n",
    "#### ——（1）来源于新华社文本设为0，来源于其他设为1，进行0-1分类  \n",
    "#### ——（2）模型判别来源于新华社，而实际标注为其他，则判定为抄袭文本\n"
   ]
  },
  {
   "cell_type": "code",
   "execution_count": 2,
   "metadata": {},
   "outputs": [],
   "source": [
    "PATH=r'E:\\NLP\\dataset'\n",
    "content = pd.read_csv(PATH+r'\\sqlResult_1558435.csv',encoding='gb18030')"
   ]
  },
  {
   "cell_type": "code",
   "execution_count": 3,
   "metadata": {},
   "outputs": [
    {
     "data": {
      "text/html": [
       "<div>\n",
       "<style scoped>\n",
       "    .dataframe tbody tr th:only-of-type {\n",
       "        vertical-align: middle;\n",
       "    }\n",
       "\n",
       "    .dataframe tbody tr th {\n",
       "        vertical-align: top;\n",
       "    }\n",
       "\n",
       "    .dataframe thead th {\n",
       "        text-align: right;\n",
       "    }\n",
       "</style>\n",
       "<table border=\"1\" class=\"dataframe\">\n",
       "  <thead>\n",
       "    <tr style=\"text-align: right;\">\n",
       "      <th></th>\n",
       "      <th>id</th>\n",
       "      <th>author</th>\n",
       "      <th>source</th>\n",
       "      <th>content</th>\n",
       "      <th>feature</th>\n",
       "      <th>title</th>\n",
       "      <th>url</th>\n",
       "    </tr>\n",
       "  </thead>\n",
       "  <tbody>\n",
       "    <tr>\n",
       "      <th>0</th>\n",
       "      <td>89617</td>\n",
       "      <td>NaN</td>\n",
       "      <td>快科技@http://www.kkj.cn/</td>\n",
       "      <td>此外，自本周（6月12日）起，除小米手机6等15款机型外，其余机型已暂停更新发布（含开发版/...</td>\n",
       "      <td>{\"type\":\"科技\",\"site\":\"cnbeta\",\"commentNum\":\"37\"...</td>\n",
       "      <td>小米MIUI 9首批机型曝光：共计15款</td>\n",
       "      <td>http://www.cnbeta.com/articles/tech/623597.htm</td>\n",
       "    </tr>\n",
       "    <tr>\n",
       "      <th>1</th>\n",
       "      <td>89616</td>\n",
       "      <td>NaN</td>\n",
       "      <td>快科技@http://www.kkj.cn/</td>\n",
       "      <td>骁龙835作为唯一通过Windows 10桌面平台认证的ARM处理器，高通强调，不会因为只考...</td>\n",
       "      <td>{\"type\":\"科技\",\"site\":\"cnbeta\",\"commentNum\":\"15\"...</td>\n",
       "      <td>骁龙835在Windows 10上的性能表现有望改善</td>\n",
       "      <td>http://www.cnbeta.com/articles/tech/623599.htm</td>\n",
       "    </tr>\n",
       "    <tr>\n",
       "      <th>2</th>\n",
       "      <td>89615</td>\n",
       "      <td>NaN</td>\n",
       "      <td>快科技@http://www.kkj.cn/</td>\n",
       "      <td>此前的一加3T搭载的是3400mAh电池，DashCharge快充规格为5V/4A。\\r\\n...</td>\n",
       "      <td>{\"type\":\"科技\",\"site\":\"cnbeta\",\"commentNum\":\"18\"...</td>\n",
       "      <td>一加手机5细节曝光：3300mAh、充半小时用1天</td>\n",
       "      <td>http://www.cnbeta.com/articles/tech/623601.htm</td>\n",
       "    </tr>\n",
       "    <tr>\n",
       "      <th>3</th>\n",
       "      <td>89614</td>\n",
       "      <td>NaN</td>\n",
       "      <td>新华社</td>\n",
       "      <td>这是6月18日在葡萄牙中部大佩德罗冈地区拍摄的被森林大火烧毁的汽车。新华社记者张立云摄\\r\\n</td>\n",
       "      <td>{\"type\":\"国际新闻\",\"site\":\"环球\",\"commentNum\":\"0\",\"j...</td>\n",
       "      <td>葡森林火灾造成至少62人死亡 政府宣布进入紧急状态（组图）</td>\n",
       "      <td>http://world.huanqiu.com/hot/2017-06/10866126....</td>\n",
       "    </tr>\n",
       "    <tr>\n",
       "      <th>4</th>\n",
       "      <td>89613</td>\n",
       "      <td>胡淑丽_MN7479</td>\n",
       "      <td>深圳大件事</td>\n",
       "      <td>（原标题：44岁女子跑深圳约会网友被拒，暴雨中裸身奔走……）\\r\\n@深圳交警微博称：昨日清...</td>\n",
       "      <td>{\"type\":\"新闻\",\"site\":\"网易热门\",\"commentNum\":\"978\",...</td>\n",
       "      <td>44岁女子约网友被拒暴雨中裸奔 交警为其披衣相随</td>\n",
       "      <td>http://news.163.com/17/0618/00/CN617P3Q0001875...</td>\n",
       "    </tr>\n",
       "  </tbody>\n",
       "</table>\n",
       "</div>"
      ],
      "text/plain": [
       "      id      author                  source  \\\n",
       "0  89617         NaN  快科技@http://www.kkj.cn/   \n",
       "1  89616         NaN  快科技@http://www.kkj.cn/   \n",
       "2  89615         NaN  快科技@http://www.kkj.cn/   \n",
       "3  89614         NaN                     新华社   \n",
       "4  89613  胡淑丽_MN7479                   深圳大件事   \n",
       "\n",
       "                                             content  \\\n",
       "0  此外，自本周（6月12日）起，除小米手机6等15款机型外，其余机型已暂停更新发布（含开发版/...   \n",
       "1  骁龙835作为唯一通过Windows 10桌面平台认证的ARM处理器，高通强调，不会因为只考...   \n",
       "2  此前的一加3T搭载的是3400mAh电池，DashCharge快充规格为5V/4A。\\r\\n...   \n",
       "3    这是6月18日在葡萄牙中部大佩德罗冈地区拍摄的被森林大火烧毁的汽车。新华社记者张立云摄\\r\\n   \n",
       "4  （原标题：44岁女子跑深圳约会网友被拒，暴雨中裸身奔走……）\\r\\n@深圳交警微博称：昨日清...   \n",
       "\n",
       "                                             feature  \\\n",
       "0  {\"type\":\"科技\",\"site\":\"cnbeta\",\"commentNum\":\"37\"...   \n",
       "1  {\"type\":\"科技\",\"site\":\"cnbeta\",\"commentNum\":\"15\"...   \n",
       "2  {\"type\":\"科技\",\"site\":\"cnbeta\",\"commentNum\":\"18\"...   \n",
       "3  {\"type\":\"国际新闻\",\"site\":\"环球\",\"commentNum\":\"0\",\"j...   \n",
       "4  {\"type\":\"新闻\",\"site\":\"网易热门\",\"commentNum\":\"978\",...   \n",
       "\n",
       "                           title  \\\n",
       "0           小米MIUI 9首批机型曝光：共计15款   \n",
       "1     骁龙835在Windows 10上的性能表现有望改善   \n",
       "2      一加手机5细节曝光：3300mAh、充半小时用1天   \n",
       "3  葡森林火灾造成至少62人死亡 政府宣布进入紧急状态（组图）   \n",
       "4       44岁女子约网友被拒暴雨中裸奔 交警为其披衣相随   \n",
       "\n",
       "                                                 url  \n",
       "0     http://www.cnbeta.com/articles/tech/623597.htm  \n",
       "1     http://www.cnbeta.com/articles/tech/623599.htm  \n",
       "2     http://www.cnbeta.com/articles/tech/623601.htm  \n",
       "3  http://world.huanqiu.com/hot/2017-06/10866126....  \n",
       "4  http://news.163.com/17/0618/00/CN617P3Q0001875...  "
      ]
     },
     "execution_count": 3,
     "metadata": {},
     "output_type": "execute_result"
    }
   ],
   "source": [
    "content.head()"
   ]
  },
  {
   "cell_type": "code",
   "execution_count": 4,
   "metadata": {},
   "outputs": [],
   "source": [
    "xinhua_news = content[content.source == '新华社']"
   ]
  },
  {
   "cell_type": "code",
   "execution_count": 5,
   "metadata": {},
   "outputs": [
    {
     "data": {
      "text/plain": [
       "0.8778051801676133"
      ]
     },
     "execution_count": 5,
     "metadata": {},
     "output_type": "execute_result"
    }
   ],
   "source": [
    "len(xinhua_news)/len(content)"
   ]
  },
  {
   "cell_type": "code",
   "execution_count": 6,
   "metadata": {},
   "outputs": [
    {
     "name": "stdout",
     "output_type": "stream",
     "text": [
      "0.12219481983238666\n"
     ]
    },
    {
     "data": {
      "text/html": [
       "<div>\n",
       "<style scoped>\n",
       "    .dataframe tbody tr th:only-of-type {\n",
       "        vertical-align: middle;\n",
       "    }\n",
       "\n",
       "    .dataframe tbody tr th {\n",
       "        vertical-align: top;\n",
       "    }\n",
       "\n",
       "    .dataframe thead th {\n",
       "        text-align: right;\n",
       "    }\n",
       "</style>\n",
       "<table border=\"1\" class=\"dataframe\">\n",
       "  <thead>\n",
       "    <tr style=\"text-align: right;\">\n",
       "      <th></th>\n",
       "      <th>id</th>\n",
       "      <th>author</th>\n",
       "      <th>source</th>\n",
       "      <th>content</th>\n",
       "      <th>feature</th>\n",
       "      <th>title</th>\n",
       "      <th>url</th>\n",
       "      <th>y</th>\n",
       "    </tr>\n",
       "  </thead>\n",
       "  <tbody>\n",
       "    <tr>\n",
       "      <th>0</th>\n",
       "      <td>89617</td>\n",
       "      <td>NaN</td>\n",
       "      <td>快科技@http://www.kkj.cn/</td>\n",
       "      <td>此外，自本周（6月12日）起，除小米手机6等15款机型外，其余机型已暂停更新发布（含开发版/...</td>\n",
       "      <td>{\"type\":\"科技\",\"site\":\"cnbeta\",\"commentNum\":\"37\"...</td>\n",
       "      <td>小米MIUI 9首批机型曝光：共计15款</td>\n",
       "      <td>http://www.cnbeta.com/articles/tech/623597.htm</td>\n",
       "      <td>1</td>\n",
       "    </tr>\n",
       "    <tr>\n",
       "      <th>1</th>\n",
       "      <td>89616</td>\n",
       "      <td>NaN</td>\n",
       "      <td>快科技@http://www.kkj.cn/</td>\n",
       "      <td>骁龙835作为唯一通过Windows 10桌面平台认证的ARM处理器，高通强调，不会因为只考...</td>\n",
       "      <td>{\"type\":\"科技\",\"site\":\"cnbeta\",\"commentNum\":\"15\"...</td>\n",
       "      <td>骁龙835在Windows 10上的性能表现有望改善</td>\n",
       "      <td>http://www.cnbeta.com/articles/tech/623599.htm</td>\n",
       "      <td>1</td>\n",
       "    </tr>\n",
       "    <tr>\n",
       "      <th>2</th>\n",
       "      <td>89615</td>\n",
       "      <td>NaN</td>\n",
       "      <td>快科技@http://www.kkj.cn/</td>\n",
       "      <td>此前的一加3T搭载的是3400mAh电池，DashCharge快充规格为5V/4A。\\r\\n...</td>\n",
       "      <td>{\"type\":\"科技\",\"site\":\"cnbeta\",\"commentNum\":\"18\"...</td>\n",
       "      <td>一加手机5细节曝光：3300mAh、充半小时用1天</td>\n",
       "      <td>http://www.cnbeta.com/articles/tech/623601.htm</td>\n",
       "      <td>1</td>\n",
       "    </tr>\n",
       "    <tr>\n",
       "      <th>3</th>\n",
       "      <td>89614</td>\n",
       "      <td>NaN</td>\n",
       "      <td>新华社</td>\n",
       "      <td>这是6月18日在葡萄牙中部大佩德罗冈地区拍摄的被森林大火烧毁的汽车。新华社记者张立云摄\\r\\n</td>\n",
       "      <td>{\"type\":\"国际新闻\",\"site\":\"环球\",\"commentNum\":\"0\",\"j...</td>\n",
       "      <td>葡森林火灾造成至少62人死亡 政府宣布进入紧急状态（组图）</td>\n",
       "      <td>http://world.huanqiu.com/hot/2017-06/10866126....</td>\n",
       "      <td>0</td>\n",
       "    </tr>\n",
       "    <tr>\n",
       "      <th>4</th>\n",
       "      <td>89613</td>\n",
       "      <td>胡淑丽_MN7479</td>\n",
       "      <td>深圳大件事</td>\n",
       "      <td>（原标题：44岁女子跑深圳约会网友被拒，暴雨中裸身奔走……）\\r\\n@深圳交警微博称：昨日清...</td>\n",
       "      <td>{\"type\":\"新闻\",\"site\":\"网易热门\",\"commentNum\":\"978\",...</td>\n",
       "      <td>44岁女子约网友被拒暴雨中裸奔 交警为其披衣相随</td>\n",
       "      <td>http://news.163.com/17/0618/00/CN617P3Q0001875...</td>\n",
       "      <td>1</td>\n",
       "    </tr>\n",
       "  </tbody>\n",
       "</table>\n",
       "</div>"
      ],
      "text/plain": [
       "      id      author                  source  \\\n",
       "0  89617         NaN  快科技@http://www.kkj.cn/   \n",
       "1  89616         NaN  快科技@http://www.kkj.cn/   \n",
       "2  89615         NaN  快科技@http://www.kkj.cn/   \n",
       "3  89614         NaN                     新华社   \n",
       "4  89613  胡淑丽_MN7479                   深圳大件事   \n",
       "\n",
       "                                             content  \\\n",
       "0  此外，自本周（6月12日）起，除小米手机6等15款机型外，其余机型已暂停更新发布（含开发版/...   \n",
       "1  骁龙835作为唯一通过Windows 10桌面平台认证的ARM处理器，高通强调，不会因为只考...   \n",
       "2  此前的一加3T搭载的是3400mAh电池，DashCharge快充规格为5V/4A。\\r\\n...   \n",
       "3    这是6月18日在葡萄牙中部大佩德罗冈地区拍摄的被森林大火烧毁的汽车。新华社记者张立云摄\\r\\n   \n",
       "4  （原标题：44岁女子跑深圳约会网友被拒，暴雨中裸身奔走……）\\r\\n@深圳交警微博称：昨日清...   \n",
       "\n",
       "                                             feature  \\\n",
       "0  {\"type\":\"科技\",\"site\":\"cnbeta\",\"commentNum\":\"37\"...   \n",
       "1  {\"type\":\"科技\",\"site\":\"cnbeta\",\"commentNum\":\"15\"...   \n",
       "2  {\"type\":\"科技\",\"site\":\"cnbeta\",\"commentNum\":\"18\"...   \n",
       "3  {\"type\":\"国际新闻\",\"site\":\"环球\",\"commentNum\":\"0\",\"j...   \n",
       "4  {\"type\":\"新闻\",\"site\":\"网易热门\",\"commentNum\":\"978\",...   \n",
       "\n",
       "                           title  \\\n",
       "0           小米MIUI 9首批机型曝光：共计15款   \n",
       "1     骁龙835在Windows 10上的性能表现有望改善   \n",
       "2      一加手机5细节曝光：3300mAh、充半小时用1天   \n",
       "3  葡森林火灾造成至少62人死亡 政府宣布进入紧急状态（组图）   \n",
       "4       44岁女子约网友被拒暴雨中裸奔 交警为其披衣相随   \n",
       "\n",
       "                                                 url  y  \n",
       "0     http://www.cnbeta.com/articles/tech/623597.htm  1  \n",
       "1     http://www.cnbeta.com/articles/tech/623599.htm  1  \n",
       "2     http://www.cnbeta.com/articles/tech/623601.htm  1  \n",
       "3  http://world.huanqiu.com/hot/2017-06/10866126....  0  \n",
       "4  http://news.163.com/17/0618/00/CN617P3Q0001875...  1  "
      ]
     },
     "execution_count": 6,
     "metadata": {},
     "output_type": "execute_result"
    }
   ],
   "source": [
    "news = pd.DataFrame(content)\n",
    "news['y']=np.where(news.source == '新华社',0,1)\n",
    "print(len(news[news.y==1])/len(news))\n",
    "news.head(5)"
   ]
  },
  {
   "cell_type": "markdown",
   "metadata": {},
   "source": [
    "## 二、数据预处理"
   ]
  },
  {
   "cell_type": "markdown",
   "metadata": {},
   "source": [
    "#### 1.提取content字段新闻数据  \n",
    "#### 2.分词  \n",
    "#### 3.tfidf特征提取"
   ]
  },
  {
   "cell_type": "code",
   "execution_count": 7,
   "metadata": {},
   "outputs": [],
   "source": [
    "#pattern1 = re.compile(r'\\n')\n",
    "pattern1 = re.compile(\"[\\s+\\.\\!?\\/_,$`%^*(+\\\"\\']+|[+——！，。？、~@#￥%……&*（）“”：；【】]+\")"
   ]
  },
  {
   "cell_type": "code",
   "execution_count": 8,
   "metadata": {},
   "outputs": [],
   "source": [
    "def clearing(string,pattern):\n",
    "    return re.sub(pattern,'',string).replace('\\n','')"
   ]
  },
  {
   "cell_type": "code",
   "execution_count": 9,
   "metadata": {},
   "outputs": [],
   "source": [
    "content_cleaned = [clearing(str(content),pattern1) for content in news.content]"
   ]
  },
  {
   "cell_type": "code",
   "execution_count": 10,
   "metadata": {},
   "outputs": [
    {
     "name": "stderr",
     "output_type": "stream",
     "text": [
      "Building prefix dict from the default dictionary ...\n",
      "Loading model from cache C:\\Users\\Lenovo\\AppData\\Local\\Temp\\jieba.cache\n",
      "Loading model cost 2.228 seconds.\n",
      "Prefix dict has been built succesfully.\n"
     ]
    }
   ],
   "source": [
    "content_cutted = [' '.join(jieba.cut(s)) for s in content_cleaned]"
   ]
  },
  {
   "cell_type": "code",
   "execution_count": 11,
   "metadata": {},
   "outputs": [
    {
     "data": {
      "text/plain": [
       "['此外 自 本周 6 月 12 日起 除 小米 手机 6 等 15 款 机型 外 其余 机型 已 暂停 更新 发布 含 开发 版 体验版 内测 稳定版 暂不受 影响 以 确保 工程师 可以 集中 全部 精力 进行 系统优化 工作 有人 猜测 这 也 是 将 精力 主要 用到 MIUI9 的 研发 之中 MIUI8 去年 5 月 发布 距今已有 一年 有余 也 是 时候 更新换代 了 当然 关于 MIUI9 的 确切 信息 我们 还是 等待 官方消息',\n",
       " '骁龙 835 作为 唯一 通过 Windows10 桌面 平台 认证 的 ARM 处理器 高通 强调 不会 因为 只 考虑 性能 而 去 屏蔽掉 小 核心 相反 他们 正 联手 微软 找到 一种 适合 桌面 平台 的 兼顾 性能 和 功耗 的 完美 方案 报道 称 微软 已经 拿到 了 一些 新 的 源码 以便 Windows10 更好 地 理解 biglittle 架构 资料 显示 骁龙 835 作为 一款 集成 了 CPUGPU 基带 蓝牙 Wi - Fi 的 SoC 比 传统 的 Wintel 方案 可以 节省 至少 30 的 PCB 空间 按计划 今年 Q4 华硕 惠普 联想 将 首发 骁龙 835Win10 电脑 预计 均 是 二合一 形态 的 产品 当然 高通 骁龙 只是 个 开始 未来 也许 还 能 见到 三星 Exynos 联发科 华为 麒麟 小米 澎湃 等 进入 Windows10 桌面 平台']"
      ]
     },
     "execution_count": 11,
     "metadata": {},
     "output_type": "execute_result"
    }
   ],
   "source": [
    "content_cutted[:2]"
   ]
  },
  {
   "cell_type": "code",
   "execution_count": 12,
   "metadata": {},
   "outputs": [],
   "source": [
    "tfidf_vectorizer = TfidfVectorizer(encoding='gb18030',use_idf=True)\n",
    "tfidf_vectors = tfidf_vectorizer.fit_transform(content_cutted)"
   ]
  },
  {
   "cell_type": "code",
   "execution_count": 13,
   "metadata": {},
   "outputs": [
    {
     "name": "stdout",
     "output_type": "stream",
     "text": [
      "['00', '000', '0000', '000001552', '000001631', '00001', '000015', '000019420106', '000019420111001', '000019420222001', '000019420526001', '000019420606001', '000019420921', '000019421123001', '000019422802001', '000019422822001', '000019422828001', '00001hk', '000035', '000038']\n"
     ]
    }
   ],
   "source": [
    "print(tfidf_vectorizer.get_feature_names()[:20])"
   ]
  },
  {
   "cell_type": "code",
   "execution_count": 14,
   "metadata": {},
   "outputs": [
    {
     "name": "stdout",
     "output_type": "stream",
     "text": [
      "(89611, 265011)\n"
     ]
    }
   ],
   "source": [
    "print(tfidf_vectors.shape)"
   ]
  },
  {
   "cell_type": "code",
   "execution_count": 15,
   "metadata": {},
   "outputs": [
    {
     "name": "stdout",
     "output_type": "stream",
     "text": [
      "  (0, 163052)\t0.07473691385947241\n",
      "  (0, 151355)\t0.11479395074526405\n",
      "  (0, 1963)\t0.06279795774467459\n",
      "  (0, 144884)\t0.09574354530233725\n",
      "  (0, 107692)\t0.1390335829294175\n",
      "  (0, 129197)\t0.09039849496362332\n",
      "  (0, 3039)\t0.06524648510728423\n",
      "  (0, 152224)\t0.27770608359667676\n",
      "  (0, 56084)\t0.11224607202445959\n",
      "  (0, 148110)\t0.10772334644258012\n",
      "  (0, 148643)\t0.11176970920225676\n",
      "  (0, 74874)\t0.13577286534932317\n",
      "  (0, 117717)\t0.08286902497376143\n",
      "  (0, 47457)\t0.20824240188052168\n",
      "  (0, 56989)\t0.1859643317657902\n",
      "  (0, 196700)\t0.20824240188052168\n",
      "  (0, 148100)\t0.20824240188052168\n",
      "  (0, 121656)\t0.06839508662344358\n",
      "  (0, 193154)\t0.08392544573444331\n",
      "  (0, 111251)\t0.11424532681409844\n",
      "  (0, 77052)\t0.06228168410475248\n",
      "  (0, 252919)\t0.08401569489485615\n",
      "  (0, 54298)\t0.07757855080808931\n",
      "  (0, 200766)\t0.24741720160904213\n",
      "  (0, 237349)\t0.047603922162558876\n",
      "  (0, 201159)\t0.20824240188052168\n",
      "  (0, 111040)\t0.058285887221908785\n",
      "  (0, 149707)\t0.09308881918863887\n",
      "  (0, 181087)\t0.12763851124050393\n",
      "  (0, 35236)\t0.06329628781156045\n",
      "  (0, 185667)\t0.15496884948987522\n",
      "  (0, 18667)\t0.41648480376104335\n",
      "  (0, 192765)\t0.08890817178393662\n",
      "  (0, 35590)\t0.10723104791350233\n",
      "  (0, 18666)\t0.20824240188052168\n",
      "  (0, 73385)\t0.07209703387195968\n",
      "  (0, 232917)\t0.16560027375364544\n",
      "  (0, 23477)\t0.08241975861734276\n",
      "  (0, 149728)\t0.15950163625938835\n",
      "  (0, 145392)\t0.08545419242162688\n",
      "  (0, 148647)\t0.157858947774526\n",
      "  (0, 121128)\t0.10223695771424395\n",
      "  (0, 55633)\t0.07608522821914662\n",
      "  (0, 193162)\t0.14606348809558162\n",
      "  (0, 50232)\t0.07380499865911057\n",
      "  (0, 127650)\t0.06096052282632358\n",
      "  (0, 236696)\t0.07451859391920622\n",
      "  (0, 199284)\t0.10180679055954138\n",
      "  (0, 103557)\t0.17792661311446606\n"
     ]
    }
   ],
   "source": [
    "print(tfidf_vectors[0])"
   ]
  },
  {
   "cell_type": "code",
   "execution_count": 16,
   "metadata": {},
   "outputs": [
    {
     "name": "stdout",
     "output_type": "stream",
     "text": [
      "此外 163052\n",
      "本周 151355\n",
      "12 1963\n",
      "日起 144884\n",
      "小米 107692\n",
      "手机 129197\n",
      "15 3039\n",
      "机型 152224\n",
      "其余 56084\n",
      "暂停 148110\n",
      "更新 148643\n",
      "发布 74874\n",
      "开发 117717\n",
      "体验版 47457\n",
      "内测 56989\n",
      "稳定版 196700\n",
      "暂不受 148100\n",
      "影响 121656\n",
      "确保 193154\n",
      "工程师 111251\n",
      "可以 77052\n",
      "集中 252919\n",
      "全部 54298\n",
      "精力 200766\n",
      "进行 237349\n",
      "系统优化 201159\n",
      "工作 111040\n",
      "有人 149707\n",
      "猜测 181087\n",
      "主要 35236\n",
      "用到 185667\n",
      "miui9 18667\n",
      "研发 192765\n",
      "之中 35590\n",
      "miui8 18666\n",
      "去年 73385\n",
      "距今已有 232917\n",
      "一年 23477\n",
      "有余 149728\n",
      "时候 145392\n",
      "更新换代 148647\n",
      "当然 121128\n",
      "关于 55633\n",
      "确切 193162\n",
      "信息 50232\n",
      "我们 127650\n",
      "还是 236696\n",
      "等待 199284\n",
      "官方消息 103557\n",
      "骁龙 259968\n"
     ]
    }
   ],
   "source": [
    "i = 0\n",
    "for k,v in tfidf_vectorizer.vocabulary_.items():\n",
    "    if i < 50:\n",
    "        print(k,v)\n",
    "    i+=1"
   ]
  },
  {
   "cell_type": "code",
   "execution_count": 17,
   "metadata": {},
   "outputs": [
    {
     "data": {
      "text/html": [
       "<div>\n",
       "<style scoped>\n",
       "    .dataframe tbody tr th:only-of-type {\n",
       "        vertical-align: middle;\n",
       "    }\n",
       "\n",
       "    .dataframe tbody tr th {\n",
       "        vertical-align: top;\n",
       "    }\n",
       "\n",
       "    .dataframe thead th {\n",
       "        text-align: right;\n",
       "    }\n",
       "</style>\n",
       "<table border=\"1\" class=\"dataframe\">\n",
       "  <thead>\n",
       "    <tr style=\"text-align: right;\">\n",
       "      <th></th>\n",
       "      <th>tf_idf</th>\n",
       "      <th>feature_name</th>\n",
       "    </tr>\n",
       "  </thead>\n",
       "  <tbody>\n",
       "    <tr>\n",
       "      <th>0</th>\n",
       "      <td>0.396362</td>\n",
       "      <td>性能</td>\n",
       "    </tr>\n",
       "    <tr>\n",
       "      <th>1</th>\n",
       "      <td>0.300158</td>\n",
       "      <td>测试</td>\n",
       "    </tr>\n",
       "    <tr>\n",
       "      <th>2</th>\n",
       "      <td>0.299587</td>\n",
       "      <td>amd</td>\n",
       "    </tr>\n",
       "    <tr>\n",
       "      <th>3</th>\n",
       "      <td>0.224463</td>\n",
       "      <td>intel</td>\n",
       "    </tr>\n",
       "    <tr>\n",
       "      <th>4</th>\n",
       "      <td>0.208408</td>\n",
       "      <td>锐龙</td>\n",
       "    </tr>\n",
       "    <tr>\n",
       "      <th>5</th>\n",
       "      <td>0.204107</td>\n",
       "      <td>corei7</td>\n",
       "    </tr>\n",
       "    <tr>\n",
       "      <th>6</th>\n",
       "      <td>0.186124</td>\n",
       "      <td>cpu</td>\n",
       "    </tr>\n",
       "    <tr>\n",
       "      <th>7</th>\n",
       "      <td>0.182357</td>\n",
       "      <td>超频</td>\n",
       "    </tr>\n",
       "    <tr>\n",
       "      <th>8</th>\n",
       "      <td>0.156306</td>\n",
       "      <td>7820x</td>\n",
       "    </tr>\n",
       "    <tr>\n",
       "      <th>9</th>\n",
       "      <td>0.147054</td>\n",
       "      <td>i7</td>\n",
       "    </tr>\n",
       "  </tbody>\n",
       "</table>\n",
       "</div>"
      ],
      "text/plain": [
       "     tf_idf feature_name\n",
       "0  0.396362           性能\n",
       "1  0.300158           测试\n",
       "2  0.299587          amd\n",
       "3  0.224463        intel\n",
       "4  0.208408           锐龙\n",
       "5  0.204107       corei7\n",
       "6  0.186124          cpu\n",
       "7  0.182357           超频\n",
       "8  0.156306        7820x\n",
       "9  0.147054           i7"
      ]
     },
     "execution_count": 17,
     "metadata": {},
     "output_type": "execute_result"
    }
   ],
   "source": [
    "#获取第idx个词向量tfidf得分最高的前n个特征词\n",
    "def get_feature_names(idx,top_n):\n",
    "    df = pd.DataFrame(tfidf_vectors[idx].T.todense(), columns=[\"tfidf\"])\n",
    "    df = df.sort_values(by=[\"tfidf\"],ascending=False)\n",
    "    feature_idx = df.iloc[:top_n,:].index\n",
    "    \n",
    "    features = []\n",
    "    for k,v in tfidf_vectorizer.vocabulary_.items():\n",
    "        if v in feature_idx:\n",
    "            features.append(k)\n",
    "    \n",
    "    #print(features)\n",
    "    #print(df.tfidf[:top_n].values)\n",
    "    n_features = pd.DataFrame(features,df.tfidf[:top_n].values,columns = ['feature_name'])\n",
    "    n_features.index.name='tf_idf'\n",
    "    \n",
    "    return n_features.reset_index()\n",
    "\n",
    "get_feature_names(2090,10)"
   ]
  },
  {
   "cell_type": "markdown",
   "metadata": {},
   "source": [
    "## 三、分类"
   ]
  },
  {
   "cell_type": "markdown",
   "metadata": {},
   "source": [
    "#### 1.问题定义：  \n",
    "#### （1）来源于新华社文本设为0，来源于其他设为1，进行0-1分类   \n",
    "#### （2）模型判别来源于新华社，而实际标注为其他，则判定为抄袭文本\n",
    "#### 2.多模型分类"
   ]
  },
  {
   "cell_type": "code",
   "execution_count": 18,
   "metadata": {},
   "outputs": [],
   "source": [
    "import time\n",
    "def timer(f):\n",
    "    def wrapper(*args, **kwargs):\n",
    "        start_time = time.time()\n",
    "        f(*args, **kwargs)\n",
    "        end_time = time.time()\n",
    "        print(end_time - start_time)\n",
    "    return wrapper"
   ]
  },
  {
   "cell_type": "code",
   "execution_count": 19,
   "metadata": {},
   "outputs": [],
   "source": [
    "from sklearn.model_selection import train_test_split\n",
    "from sklearn.metrics import classification_report"
   ]
  },
  {
   "cell_type": "code",
   "execution_count": 20,
   "metadata": {},
   "outputs": [],
   "source": [
    "X_train,X_test,y_train,y_test = train_test_split(tfidf_vectors,news.y,test_size = 0.2,random_state=0)"
   ]
  },
  {
   "cell_type": "code",
   "execution_count": 21,
   "metadata": {},
   "outputs": [],
   "source": [
    "@timer\n",
    "def predict(str_name,model):\n",
    "    y_predict = model.predict(X_test)\n",
    "    target_names = ['source from xinhuashe', 'source from others']\n",
    "    print(str_name,'：\\n', classification_report(y_test,y_predict,target_names=target_names))"
   ]
  },
  {
   "cell_type": "markdown",
   "metadata": {},
   "source": [
    "### LogisticRegression"
   ]
  },
  {
   "cell_type": "code",
   "execution_count": 22,
   "metadata": {},
   "outputs": [],
   "source": [
    "from sklearn.linear_model import LogisticRegression"
   ]
  },
  {
   "cell_type": "code",
   "execution_count": 23,
   "metadata": {},
   "outputs": [
    {
     "name": "stderr",
     "output_type": "stream",
     "text": [
      "d:\\users\\lenovo\\appdata\\local\\programs\\python\\python37\\lib\\site-packages\\sklearn\\linear_model\\logistic.py:433: FutureWarning: Default solver will be changed to 'lbfgs' in 0.22. Specify a solver to silence this warning.\n",
      "  FutureWarning)\n"
     ]
    },
    {
     "name": "stdout",
     "output_type": "stream",
     "text": [
      "LR ：\n",
      "                        precision    recall  f1-score   support\n",
      "\n",
      "source from xinhuashe       0.97      1.00      0.98     15773\n",
      "   source from others       0.97      0.76      0.85      2150\n",
      "\n",
      "            micro avg       0.97      0.97      0.97     17923\n",
      "            macro avg       0.97      0.88      0.92     17923\n",
      "         weighted avg       0.97      0.97      0.97     17923\n",
      "\n",
      "0.05191302299499512\n"
     ]
    }
   ],
   "source": [
    "LR = LogisticRegression(random_state=0).fit(X_train,y_train) #baseline\n",
    "predict('LR',LR)"
   ]
  },
  {
   "cell_type": "code",
   "execution_count": 25,
   "metadata": {},
   "outputs": [
    {
     "name": "stdout",
     "output_type": "stream",
     "text": [
      "LR ：\n",
      "                        precision    recall  f1-score   support\n",
      "\n",
      "source from xinhuashe       1.00      0.99      0.99     15773\n",
      "   source from others       0.96      0.97      0.96      2150\n",
      "\n",
      "            micro avg       0.99      0.99      0.99     17923\n",
      "            macro avg       0.98      0.98      0.98     17923\n",
      "         weighted avg       0.99      0.99      0.99     17923\n",
      "\n",
      "0.053861141204833984\n"
     ]
    }
   ],
   "source": [
    "LR = LogisticRegression(class_weight = 'balanced', penalty='l1',C = 30 ,solver='liblinear',\\\n",
    "                        random_state=0).fit(X_train,y_train) #特征稀疏设置L1惩罚\n",
    "predict('LR',LR)"
   ]
  },
  {
   "cell_type": "markdown",
   "metadata": {},
   "source": [
    "### KNN  \n",
    "class sklearn.neighbors.KNeighborsClassifier(n_neighbors=5, weights=’uniform’, algorithm=’auto’, leaf_size=30, p=2, metric=’minkowski’, metric_params=None, n_jobs=None, **kwargs)[source]"
   ]
  },
  {
   "cell_type": "code",
   "execution_count": 37,
   "metadata": {},
   "outputs": [],
   "source": [
    "from sklearn.neighbors import KNeighborsClassifier"
   ]
  },
  {
   "cell_type": "code",
   "execution_count": 38,
   "metadata": {},
   "outputs": [
    {
     "name": "stdout",
     "output_type": "stream",
     "text": [
      "KNN ：\n",
      "                        precision    recall  f1-score   support\n",
      "\n",
      "source from xinhuashe       0.92      1.00      0.96     15773\n",
      "   source from others       0.98      0.36      0.53      2150\n",
      "\n",
      "            micro avg       0.92      0.92      0.92     17923\n",
      "            macro avg       0.95      0.68      0.74     17923\n",
      "         weighted avg       0.93      0.92      0.91     17923\n",
      "\n",
      "206.10255670547485\n"
     ]
    }
   ],
   "source": [
    "kNN = KNeighborsClassifier(n_neighbors = 10, weights = 'distance').fit(X_train,y_train) #baseline\n",
    "predict('KNN',kNN)"
   ]
  },
  {
   "cell_type": "code",
   "execution_count": 39,
   "metadata": {},
   "outputs": [],
   "source": [
    "def weighted(D):\n",
    "    W = []\n",
    "    for d in D:\n",
    "        W.append((D.max() - d) / (D.max() - D.min()))\n",
    "    return np.array(W)\n",
    "    "
   ]
  },
  {
   "cell_type": "code",
   "execution_count": 40,
   "metadata": {
    "scrolled": true
   },
   "outputs": [
    {
     "name": "stdout",
     "output_type": "stream",
     "text": [
      "KNN ：\n",
      "                        precision    recall  f1-score   support\n",
      "\n",
      "source from xinhuashe       0.94      0.99      0.97     15773\n",
      "   source from others       0.93      0.51      0.66      2150\n",
      "\n",
      "            micro avg       0.94      0.94      0.94     17923\n",
      "            macro avg       0.93      0.75      0.81     17923\n",
      "         weighted avg       0.94      0.94      0.93     17923\n",
      "\n",
      "379.65824580192566\n"
     ]
    }
   ],
   "source": [
    "kNN = KNeighborsClassifier(n_neighbors = 3,weights = weighted).fit(X_train,y_train) \n",
    "predict('KNN',kNN)"
   ]
  },
  {
   "cell_type": "markdown",
   "metadata": {},
   "source": [
    "### SVM  \n",
    "class sklearn.svm.SVC(C=1.0, kernel=’rbf’, degree=3, gamma=’auto_deprecated’, coef0=0.0, shrinking=True, probability=False, tol=0.001, cache_size=200, class_weight=None, verbose=False, max_iter=-1, decision_function_shape=’ovr’, random_state=None)"
   ]
  },
  {
   "cell_type": "code",
   "execution_count": 41,
   "metadata": {},
   "outputs": [],
   "source": [
    "from sklearn.svm import SVC"
   ]
  },
  {
   "cell_type": "code",
   "execution_count": 42,
   "metadata": {},
   "outputs": [
    {
     "name": "stdout",
     "output_type": "stream",
     "text": [
      "SVM ：\n",
      "                        precision    recall  f1-score   support\n",
      "\n",
      "source from xinhuashe       0.99      0.99      0.99     15773\n",
      "   source from others       0.92      0.95      0.93      2150\n",
      "\n",
      "            micro avg       0.98      0.98      0.98     17923\n",
      "            macro avg       0.96      0.97      0.96     17923\n",
      "         weighted avg       0.98      0.98      0.98     17923\n",
      "\n",
      "254.4422550201416\n"
     ]
    }
   ],
   "source": [
    "svm = SVC(kernel = 'linear', class_weight = 'balanced', random_state = 0).fit(X_train,y_train) #baseline\n",
    "predict('SVM',svm)"
   ]
  },
  {
   "cell_type": "code",
   "execution_count": 43,
   "metadata": {},
   "outputs": [
    {
     "name": "stdout",
     "output_type": "stream",
     "text": [
      "SVM ：\n",
      "                        precision    recall  f1-score   support\n",
      "\n",
      "source from xinhuashe       0.99      0.99      0.99     15773\n",
      "   source from others       0.95      0.95      0.95      2150\n",
      "\n",
      "            micro avg       0.99      0.99      0.99     17923\n",
      "            macro avg       0.97      0.97      0.97     17923\n",
      "         weighted avg       0.99      0.99      0.99     17923\n",
      "\n",
      "291.563937664032\n"
     ]
    }
   ],
   "source": [
    "svm = SVC(C = 3, kernel = 'rbf', gamma= 0.2, class_weight = 'balanced',random_state = 0).fit(X_train,y_train) #\n",
    "predict('SVM',svm)"
   ]
  },
  {
   "cell_type": "code",
   "execution_count": 44,
   "metadata": {},
   "outputs": [
    {
     "name": "stdout",
     "output_type": "stream",
     "text": [
      "SVM ：\n",
      "                        precision    recall  f1-score   support\n",
      "\n",
      "source from xinhuashe       0.98      1.00      0.99     15773\n",
      "   source from others       0.98      0.87      0.92      2150\n",
      "\n",
      "            micro avg       0.98      0.98      0.98     17923\n",
      "            macro avg       0.98      0.94      0.96     17923\n",
      "         weighted avg       0.98      0.98      0.98     17923\n",
      "\n",
      "7443.992892503738\n"
     ]
    }
   ],
   "source": [
    "svm = SVC(C = 3, kernel = 'rbf', gamma= 1.2, class_weight = 'balanced', random_state = 0).fit(X_train,y_train) #\n",
    "predict('SVM',svm)"
   ]
  },
  {
   "cell_type": "markdown",
   "metadata": {},
   "source": [
    "### Bayes"
   ]
  },
  {
   "cell_type": "code",
   "execution_count": 22,
   "metadata": {},
   "outputs": [],
   "source": [
    "from sklearn.naive_bayes import GaussianNB"
   ]
  },
  {
   "cell_type": "code",
   "execution_count": 23,
   "metadata": {},
   "outputs": [],
   "source": [
    "#使用全部数据训练发生内存溢出，因此截取部分数据，效果不太好\n",
    "X_train1,X_test1,y_train1,y_test1 = train_test_split(tfidf_vectors[:3000].toarray(),news.y[:3000],test_size = 0.2,random_state=0) "
   ]
  },
  {
   "cell_type": "code",
   "execution_count": 24,
   "metadata": {},
   "outputs": [
    {
     "name": "stdout",
     "output_type": "stream",
     "text": [
      "bayes ：\n",
      "                        precision    recall  f1-score   support\n",
      "\n",
      "source from xinhuashe       0.78      0.44      0.56        16\n",
      "   source from others       0.98      1.00      0.99       584\n",
      "\n",
      "            micro avg       0.98      0.98      0.98       600\n",
      "            macro avg       0.88      0.72      0.78       600\n",
      "         weighted avg       0.98      0.98      0.98       600\n",
      "\n"
     ]
    }
   ],
   "source": [
    "bayes = GaussianNB(priors = [0.8,0.2]).fit(X_train1,y_train1)\n",
    "y_predict = bayes.predict(X_test1)\n",
    "target_names = ['source from xinhuashe', 'source from others']\n",
    "print('bayes','：\\n', classification_report(y_test1,y_predict,target_names=target_names))"
   ]
  },
  {
   "cell_type": "markdown",
   "metadata": {},
   "source": [
    "### Decision Tree"
   ]
  },
  {
   "cell_type": "code",
   "execution_count": 29,
   "metadata": {
    "scrolled": true
   },
   "outputs": [],
   "source": [
    "from sklearn.tree import DecisionTreeClassifier"
   ]
  },
  {
   "cell_type": "code",
   "execution_count": 26,
   "metadata": {},
   "outputs": [
    {
     "name": "stdout",
     "output_type": "stream",
     "text": [
      "Decisoin Tree ：\n",
      "                        precision    recall  f1-score   support\n",
      "\n",
      "source from xinhuashe       0.96      0.56      0.70     15773\n",
      "   source from others       0.20      0.83      0.33      2150\n",
      "\n",
      "            micro avg       0.59      0.59      0.59     17923\n",
      "            macro avg       0.58      0.69      0.52     17923\n",
      "         weighted avg       0.87      0.59      0.66     17923\n",
      "\n",
      "0.2693195343017578\n"
     ]
    }
   ],
   "source": [
    "dt = DecisionTreeClassifier(criterion = 'gini', splitter = 'best', max_features = 'sqrt', max_depth = 50, \\\n",
    "                            class_weight = 'balanced').fit(X_train,y_train)\n",
    "predict('Decisoin Tree',dt)"
   ]
  },
  {
   "cell_type": "code",
   "execution_count": 37,
   "metadata": {},
   "outputs": [
    {
     "name": "stdout",
     "output_type": "stream",
     "text": [
      "Decisoin Tree ：\n",
      "                        precision    recall  f1-score   support\n",
      "\n",
      "source from xinhuashe       0.97      0.93      0.95     15773\n",
      "   source from others       0.61      0.82      0.70      2150\n",
      "\n",
      "            micro avg       0.91      0.91      0.91     17923\n",
      "            macro avg       0.79      0.88      0.82     17923\n",
      "         weighted avg       0.93      0.91      0.92     17923\n",
      "\n",
      "0.10870742797851562\n"
     ]
    }
   ],
   "source": [
    "dt = DecisionTreeClassifier(criterion = 'gini', splitter = 'best', max_features = 'sqrt', max_depth = 140, min_samples_split = 10,\\\n",
    "                           min_samples_leaf = 2, class_weight = 'balanced',random_state=0 ).fit(X_train,y_train)\n",
    "predict('Decisoin Tree',dt)"
   ]
  },
  {
   "cell_type": "markdown",
   "metadata": {},
   "source": [
    "### Random Forest"
   ]
  },
  {
   "cell_type": "code",
   "execution_count": 28,
   "metadata": {},
   "outputs": [],
   "source": [
    "from sklearn.ensemble import RandomForestClassifier"
   ]
  },
  {
   "cell_type": "code",
   "execution_count": 29,
   "metadata": {},
   "outputs": [
    {
     "name": "stderr",
     "output_type": "stream",
     "text": [
      "d:\\users\\lenovo\\appdata\\local\\programs\\python\\python37\\lib\\site-packages\\sklearn\\ensemble\\forest.py:246: FutureWarning: The default value of n_estimators will change from 10 in version 0.20 to 100 in 0.22.\n",
      "  \"10 in version 0.20 to 100 in 0.22.\", FutureWarning)\n",
      "d:\\users\\lenovo\\appdata\\local\\programs\\python\\python37\\lib\\site-packages\\sklearn\\ensemble\\forest.py:458: UserWarning: Some inputs do not have OOB scores. This probably means too few trees were used to compute any reliable oob estimates.\n",
      "  warn(\"Some inputs do not have OOB scores. \"\n",
      "d:\\users\\lenovo\\appdata\\local\\programs\\python\\python37\\lib\\site-packages\\sklearn\\ensemble\\forest.py:463: RuntimeWarning: invalid value encountered in true_divide\n",
      "  predictions[k].sum(axis=1)[:, np.newaxis])\n"
     ]
    },
    {
     "name": "stdout",
     "output_type": "stream",
     "text": [
      "0.9424031916080795\n",
      "随机森林 ：\n",
      "                        precision    recall  f1-score   support\n",
      "\n",
      "source from xinhuashe       0.95      1.00      0.97     15773\n",
      "   source from others       0.98      0.61      0.75      2150\n",
      "\n",
      "            micro avg       0.95      0.95      0.95     17923\n",
      "            macro avg       0.96      0.80      0.86     17923\n",
      "         weighted avg       0.95      0.95      0.95     17923\n",
      "\n",
      "0.2712736129760742\n"
     ]
    }
   ],
   "source": [
    "rf = RandomForestClassifier(oob_score= True, random_state=1)\n",
    "rf_clf =rf.fit(X_train,y_train)\n",
    "print(rf_clf.oob_score_)\n",
    "predict('随机森林',rf_clf)"
   ]
  },
  {
   "cell_type": "code",
   "execution_count": 27,
   "metadata": {},
   "outputs": [
    {
     "name": "stdout",
     "output_type": "stream",
     "text": [
      "随机森林 ：\n",
      "                        precision    recall  f1-score   support\n",
      "\n",
      "source from xinhuashe       0.99      0.98      0.99     15773\n",
      "   source from others       0.88      0.95      0.92      2150\n",
      "\n",
      "            micro avg       0.98      0.98      0.98     17923\n",
      "            macro avg       0.94      0.97      0.95     17923\n",
      "         weighted avg       0.98      0.98      0.98     17923\n",
      "\n",
      "3.1585915088653564\n"
     ]
    }
   ],
   "source": [
    "rf = RandomForestClassifier(n_estimators = 100, max_depth = 60, min_samples_split = 10, min_samples_leaf = 2, max_features = 'sqrt',\\\n",
    "                            class_weight = 'balanced', random_state = 1).fit(X_train,y_train)\n",
    "\n",
    "predict('随机森林',rf)"
   ]
  },
  {
   "cell_type": "code",
   "execution_count": null,
   "metadata": {},
   "outputs": [],
   "source": []
  },
  {
   "cell_type": "code",
   "execution_count": null,
   "metadata": {},
   "outputs": [],
   "source": []
  }
 ],
 "metadata": {
  "kernelspec": {
   "display_name": "Python 3",
   "language": "python",
   "name": "python3"
  },
  "language_info": {
   "codemirror_mode": {
    "name": "ipython",
    "version": 3
   },
   "file_extension": ".py",
   "mimetype": "text/x-python",
   "name": "python",
   "nbconvert_exporter": "python",
   "pygments_lexer": "ipython3",
   "version": "3.7.0"
  }
 },
 "nbformat": 4,
 "nbformat_minor": 2
}
